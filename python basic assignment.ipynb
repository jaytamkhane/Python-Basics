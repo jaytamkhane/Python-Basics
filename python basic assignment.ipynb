{
 "cells": [
  {
   "cell_type": "code",
   "execution_count": 2,
   "id": "91806295-2c84-4e56-8ad7-decb9e27483a",
   "metadata": {},
   "outputs": [],
   "source": [
    "#PYTHON BASICS ASSIGNMENT"
   ]
  },
  {
   "cell_type": "raw",
   "id": "4b7da280-2d5c-4485-9ed1-564967b68b06",
   "metadata": {},
   "source": [
    "Theory Questions"
   ]
  },
  {
   "cell_type": "markdown",
   "id": "d1f27356-ac4c-4e44-b7a7-c6d94fd037d7",
   "metadata": {},
   "source": [
    "1) What is python and why it is so populor ?\n",
    ">> Python is a  programming language known for its simplicity and readability. Python is widely used in various domains, including web development, data science, machine learning and more.  It’s often praised for its clear and concise syntax, which makes it easy for both beginners and experienced programmers to write and maintain code."
   ]
  },
  {
   "cell_type": "markdown",
   "id": "3c80ed0f-b29b-4707-a798-526a8c12382d",
   "metadata": {},
   "source": [
    "2) What is an interpreter in python ?\n",
    ">> A python interpreter is a computer program that converts each high-level program statement into machine code. An interpreter translates the command that you write out into code that the computer can understand."
   ]
  },
  {
   "cell_type": "markdown",
   "id": "a13fed88-bd53-41fa-ab33-4db0e68a2c9f",
   "metadata": {},
   "source": [
    "3) What are pre-defined Keywords in python ?\n",
    ">> In Python, keywords are reserved words that have special meanings and cannot be used as identifiers (e.g., variable names, function names). These keywords are part of the Python syntax and predefined by the language. They are used to define the structure and flow of the program, such as conditionals, loops, function definitions, and more."
   ]
  },
  {
   "cell_type": "code",
   "execution_count": 2,
   "id": "695ca3f7-2da7-487d-b979-4405602477c9",
   "metadata": {},
   "outputs": [
    {
     "name": "stdout",
     "output_type": "stream",
     "text": [
      "\n",
      "Here is a list of the Python keywords.  Enter any keyword to get more help.\n",
      "\n",
      "False               class               from                or\n",
      "None                continue            global              pass\n",
      "True                def                 if                  raise\n",
      "and                 del                 import              return\n",
      "as                  elif                in                  try\n",
      "assert              else                is                  while\n",
      "async               except              lambda              with\n",
      "await               finally             nonlocal            yield\n",
      "break               for                 not                 \n",
      "\n"
     ]
    }
   ],
   "source": [
    "help(\"keywords\")"
   ]
  },
  {
   "cell_type": "markdown",
   "id": "65c1104c-3271-4ec7-bc89-57d38269683a",
   "metadata": {},
   "source": [
    "4) Can keywords be used as a variable names ?\n",
    ">> No, keywords cannot be used as variable names. Keywords are reserved words that have special meaning in the language and are used to define the structure and syntax of the code."
   ]
  },
  {
   "cell_type": "markdown",
   "id": "b9bb1a37-57c0-486a-b8f1-aadc6dce2079",
   "metadata": {},
   "source": [
    "5) What is mutability in Python ?\n",
    ">> n Python, mutability refers to the ability of an object to be changed after it is created. Mutable Objects can be modified in-place, meaning their contents or state can be altered without creating a new object.For Examples (Lists, Dictionaries and Sets)."
   ]
  },
  {
   "cell_type": "markdown",
   "id": "828da54b-cec3-4d3f-9eb0-ff1dfd0fcae7",
   "metadata": {},
   "source": [
    "6) Why are Lists mutable, but tuples are immutable ?\n",
    ">> In Python, lists are considered mutable because they can be changed after creation, while tuples are immutable, meaning their contents cannot be modified once created, this design choice allows developers to explicitly signal when data should be treated as fixed and when it needs to be dynamically updated, making code more readable and preventing accidental data modifications."
   ]
  },
  {
   "cell_type": "markdown",
   "id": "28c79036-a56f-4d6c-99b2-6210b1b28a1e",
   "metadata": {},
   "source": [
    "7) What is difference between \"==\" and \"is\" operators in python ?\n",
    ">> In Python, the \"==\" and \"is\" operators are used for comparisons, but they have different purposes, the \"==\" operator is used to compare the equality of objects and the \"is\" operator is used to check if different variables are pointing to the same object in memory."
   ]
  },
  {
   "cell_type": "markdown",
   "id": "6fbe3668-a0a1-41d2-a61d-22a3e7b5d533",
   "metadata": {},
   "source": [
    "8) What are logical operators in Python ?\n",
    ">> In Python, logical operators are used to combine multiple conditions together and evaluate them as a single boolean expression. There are three types of logical operators in Python: `and`, `or`, and `not`."
   ]
  },
  {
   "cell_type": "markdown",
   "id": "88330025-79c4-44bc-86a5-61f397c280c1",
   "metadata": {},
   "source": [
    "9) What is type-casting in Python ?\n",
    ">> Type casting, also known as type conversion, is the process of converting one data type into another. Ex: you want to change the data type of a variable from an integer ( 2 ) to a float ( 2.0 )."
   ]
  },
  {
   "cell_type": "markdown",
   "id": "0d997ec1-498e-4658-9114-f47c7058b671",
   "metadata": {},
   "source": [
    "10) What is difference between implicit and explicit type-casting ?\n",
    ">>  Explicit type conversion in programming is done manually by the programmer, while implicit conversion is handled automatically by the compiler."
   ]
  },
  {
   "cell_type": "markdown",
   "id": "4cbc5ec6-99cb-471d-b2c8-b8f0382d0534",
   "metadata": {},
   "source": [
    "11) What is the purpose of a conditional statements in python ?\n",
    ">>  The purpose of conditional statements in Python is to allow the program to make decisions and execute specific blocks of code based on whether a condition is True or False. They enable dynamic behavior and control the flow of the program."
   ]
  },
  {
   "cell_type": "markdown",
   "id": "8f2c831e-2d98-44fb-82c5-027e0d8f3ac5",
   "metadata": {},
   "source": [
    "12) How does the elif statement work ?\n",
    ">>  An \"elif\" statement in programming languages like Python stands for \"else if\" and is used within conditional statements to check for multiple conditions sequentially, if the first \"if\" condition is not met, it moves on to the next \"elif\" condition to see if that one is true, essentially allowing for a series of checks until one condition is satisfied and its corresponding code block is executed; if none of the conditions are true, the code will typically execute the \"else\" statement if present."
   ]
  },
  {
   "cell_type": "markdown",
   "id": "448ab2d4-c045-40b3-a86b-73485e83ed91",
   "metadata": {},
   "source": [
    "13) What is the difference between for and while loops ?\n",
    ">>  Both \"for loop\" and \"while loop\" is used to execute the statements repeatedly while the program runs. The major difference between \"for loop\" and \"while loop\" is that \"for loop\" is used when the number of iterations is known, whereas execution is done in a \"while loop\" until the statement in the program is proved wrong."
   ]
  },
  {
   "cell_type": "markdown",
   "id": "94e7f5f3-2eb1-4d83-b85f-ffc12de2c180",
   "metadata": {},
   "source": [
    "14) Describe a scenario where a while loop is more suitable than a for loop ?\n",
    ">> Use a while loop when you need to continue looping until a specific condition is met, rather than a set number of times. For loops are better for known iterations, like looping exactly 10 times. When checking for valid input or conditions, a while loop is the preferred choice."
   ]
  },
  {
   "cell_type": "raw",
   "id": "59094a66-0ba0-493d-8f4d-a594d88be3d0",
   "metadata": {},
   "source": [
    "Practical Questions "
   ]
  },
  {
   "cell_type": "code",
   "execution_count": 3,
   "id": "6bb8dac6-83f9-4709-a086-3a328c5754d7",
   "metadata": {},
   "outputs": [
    {
     "name": "stdout",
     "output_type": "stream",
     "text": [
      "Hello World !\n"
     ]
    }
   ],
   "source": [
    "# 1) Write a python program to print \"Hello World !\"\n",
    "print(\"Hello World !\")"
   ]
  },
  {
   "cell_type": "code",
   "execution_count": 4,
   "id": "5732d31b-b780-4930-b3d3-53d9c140e38c",
   "metadata": {},
   "outputs": [
    {
     "name": "stdin",
     "output_type": "stream",
     "text": [
      "Enter your name:  jay\n",
      "Enter your age:  25\n"
     ]
    },
    {
     "name": "stdout",
     "output_type": "stream",
     "text": [
      "Your name is: jay\n",
      "Your age is: 25\n"
     ]
    }
   ],
   "source": [
    "# 2) Write a python program that displays your name and age.\n",
    "name = input(\"Enter your name: \")\n",
    "age = int(input(\"Enter your age: \"))\n",
    "\n",
    "print(\"Your name is:\", name)\n",
    "print(\"Your age is:\", age)"
   ]
  },
  {
   "cell_type": "code",
   "execution_count": 6,
   "id": "a90b5e64-91e5-490e-90e3-49f60771f7a7",
   "metadata": {},
   "outputs": [
    {
     "name": "stdout",
     "output_type": "stream",
     "text": [
      "python keywords are...\n",
      "['False', 'None', 'True', 'and', 'as', 'assert', 'async', 'await', 'break', 'class', 'continue', 'def', 'del', 'elif', 'else', 'except', 'finally', 'for', 'from', 'global', 'if', 'import', 'in', 'is', 'lambda', 'nonlocal', 'not', 'or', 'pass', 'raise', 'return', 'try', 'while', 'with', 'yield']\n"
     ]
    }
   ],
   "source": [
    "# 3) Write code to print all the pre-defined keywords in Python using the keyword library.\n",
    "import keyword\n",
    "print(\"python keywords are...\")\n",
    "print (keyword.kwlist)"
   ]
  },
  {
   "cell_type": "code",
   "execution_count": 4,
   "id": "f809a041-4011-4509-a2bb-80bf3e67b602",
   "metadata": {},
   "outputs": [
    {
     "name": "stdin",
     "output_type": "stream",
     "text": [
      "enter a word:  jay\n"
     ]
    },
    {
     "name": "stdout",
     "output_type": "stream",
     "text": [
      "jay is not a python keyword.\n"
     ]
    }
   ],
   "source": [
    "# 4) Write a program that checks if a given word is a Python keyword.\n",
    "import keyword\n",
    "def is_keyword(word):\n",
    "    return keyword.iskeyword(word)\n",
    "\n",
    "word = input(\"enter a word: \")\n",
    "if is_keyword(word):\n",
    "    print(f\"{word} is a python keyword.\")\n",
    "else:\n",
    "    print(f\"{word} is not a python keyword.\")"
   ]
  },
  {
   "cell_type": "code",
   "execution_count": 7,
   "id": "4586bc24-ce07-4043-b6fe-8a9d4db6086c",
   "metadata": {},
   "outputs": [
    {
     "name": "stdout",
     "output_type": "stream",
     "text": [
      "original list: [5, 'Jay', 2.5]\n",
      "modified list: [5, 'Jay', 'Tamkhane']\n"
     ]
    },
    {
     "ename": "NameError",
     "evalue": "name 'my_tupple' is not defined",
     "output_type": "error",
     "traceback": [
      "\u001b[1;31m---------------------------------------------------------------------------\u001b[0m",
      "\u001b[1;31mNameError\u001b[0m                                 Traceback (most recent call last)",
      "Cell \u001b[1;32mIn[7], line 11\u001b[0m\n\u001b[0;32m      8\u001b[0m my_list[\u001b[38;5;241m2\u001b[39m] \u001b[38;5;241m=\u001b[39m \u001b[38;5;124m\"\u001b[39m\u001b[38;5;124mTamkhane\u001b[39m\u001b[38;5;124m\"\u001b[39m\n\u001b[0;32m      9\u001b[0m \u001b[38;5;28mprint\u001b[39m(\u001b[38;5;124m\"\u001b[39m\u001b[38;5;124mmodified list:\u001b[39m\u001b[38;5;124m\"\u001b[39m, my_list)\n\u001b[1;32m---> 11\u001b[0m \u001b[38;5;28mprint\u001b[39m(\u001b[38;5;124m\"\u001b[39m\u001b[38;5;124moriginal tuple:\u001b[39m\u001b[38;5;124m\"\u001b[39m, my_tupple)\n\u001b[0;32m     12\u001b[0m \u001b[38;5;28;01mtry\u001b[39;00m:\n\u001b[0;32m     13\u001b[0m     my_tupple[\u001b[38;5;241m2\u001b[39m] \u001b[38;5;241m=\u001b[39m \u001b[38;5;124m\"\u001b[39m\u001b[38;5;124mapple\u001b[39m\u001b[38;5;124m\"\u001b[39m \u001b[38;5;66;03m#this will raise a TypeError because tupple are immutable\u001b[39;00m\n",
      "\u001b[1;31mNameError\u001b[0m: name 'my_tupple' is not defined"
     ]
    }
   ],
   "source": [
    "# 5) Create a list and tuple in Python, and demonstrate how attempting to change an element works differently\n",
    "#    for each.\n",
    "\n",
    "my_list = [5,\"Jay\", 2.5]\n",
    "my_tuple = (\"one+\",\"samsung\",\"oppo\")\n",
    "\n",
    "print(\"original list:\", my_list)\n",
    "my_list[2] = \"Tamkhane\"\n",
    "print(\"modified list:\", my_list)\n",
    "\n",
    "print(\"original tuple:\", my_tupple)\n",
    "try:\n",
    "    my_tupple[2] = \"apple\" #this will raise a TypeError because tupple are immutable\n",
    "except TypeError as e:\n",
    "    print(\"Error:\", e)"
   ]
  },
  {
   "cell_type": "code",
   "execution_count": 19,
   "id": "5a1c8ce8-4e61-4edf-b938-2b3ddf2b55ad",
   "metadata": {},
   "outputs": [
    {
     "name": "stdout",
     "output_type": "stream",
     "text": [
      "original_list [1, 2.5, 'Jay', 'a+bj']\n",
      "modified_list [1, 2.5, 'Tamkhane', 'a+bj']\n"
     ]
    },
    {
     "ename": "TypeError",
     "evalue": "'tuple' object does not support item assignment",
     "output_type": "error",
     "traceback": [
      "\u001b[1;31m---------------------------------------------------------------------------\u001b[0m",
      "\u001b[1;31mTypeError\u001b[0m                                 Traceback (most recent call last)",
      "Cell \u001b[1;32mIn[19], line 11\u001b[0m\n\u001b[0;32m      8\u001b[0m my_list[\u001b[38;5;241m2\u001b[39m] \u001b[38;5;241m=\u001b[39m \u001b[38;5;124m\"\u001b[39m\u001b[38;5;124mTamkhane\u001b[39m\u001b[38;5;124m\"\u001b[39m\n\u001b[0;32m      9\u001b[0m \u001b[38;5;28mprint\u001b[39m(\u001b[38;5;124m\"\u001b[39m\u001b[38;5;124mmodified_list\u001b[39m\u001b[38;5;124m\"\u001b[39m,my_list)\n\u001b[1;32m---> 11\u001b[0m a[\u001b[38;5;241m2\u001b[39m] \u001b[38;5;241m=\u001b[39m \u001b[38;5;124m\"\u001b[39m\u001b[38;5;124mTamkhane\u001b[39m\u001b[38;5;124m\"\u001b[39m\n\u001b[0;32m     12\u001b[0m \u001b[38;5;28mprint\u001b[39m(\u001b[38;5;124m\"\u001b[39m\u001b[38;5;124mmodified\u001b[39m\u001b[38;5;124m\"\u001b[39m,a)\n",
      "\u001b[1;31mTypeError\u001b[0m: 'tuple' object does not support item assignment"
     ]
    }
   ],
   "source": [
    "# 6) Write a function to demonstrate the behavior of mutable and immutable arguments.\n",
    "\n",
    "#mutable argument & Immutable argument\n",
    "my_list = [1, 2.5, \"Jay\", 'a+bj']\n",
    "a = (1, 2.5, \"jay\", 'a+bj')\n",
    "\n",
    "print(\"original_list\",my_list)\n",
    "my_list[2] = \"Tamkhane\"\n",
    "print(\"modified_list\",my_list)\n",
    "\n",
    "a[2] = \"Tamkhane\""
   ]
  },
  {
   "cell_type": "code",
   "execution_count": 20,
   "id": "798ea2ff-b7b0-480e-8a63-07471a1826d1",
   "metadata": {},
   "outputs": [
    {
     "name": "stdout",
     "output_type": "stream",
     "text": [
      "original_list [1, 2.5, 'Jay', 'a+bj']\n",
      "modified_list [1, 2.5, 'Tamkhane', 'a+bj']\n"
     ]
    },
    {
     "ename": "TypeError",
     "evalue": "'tuple' object does not support item assignment",
     "output_type": "error",
     "traceback": [
      "\u001b[1;31m---------------------------------------------------------------------------\u001b[0m",
      "\u001b[1;31mTypeError\u001b[0m                                 Traceback (most recent call last)",
      "Cell \u001b[1;32mIn[20], line 11\u001b[0m\n\u001b[0;32m      8\u001b[0m my_list[\u001b[38;5;241m2\u001b[39m] \u001b[38;5;241m=\u001b[39m \u001b[38;5;124m\"\u001b[39m\u001b[38;5;124mTamkhane\u001b[39m\u001b[38;5;124m\"\u001b[39m\n\u001b[0;32m      9\u001b[0m \u001b[38;5;28mprint\u001b[39m(\u001b[38;5;124m\"\u001b[39m\u001b[38;5;124mmodified_list\u001b[39m\u001b[38;5;124m\"\u001b[39m,my_list)\n\u001b[1;32m---> 11\u001b[0m a[\u001b[38;5;241m2\u001b[39m] \u001b[38;5;241m=\u001b[39m \u001b[38;5;124m\"\u001b[39m\u001b[38;5;124mTamkhane\u001b[39m\u001b[38;5;124m\"\u001b[39m\n",
      "\u001b[1;31mTypeError\u001b[0m: 'tuple' object does not support item assignment"
     ]
    }
   ],
   "source": [
    "# 7) Write a function to demonstrate the behavior of mutable and immutable arguments.  (Same as question no. 6)\n",
    "\n",
    "#mutable argument & Immutable argument\n",
    "my_list = [1, 2.5, \"Jay\", 'a+bj']\n",
    "a = (1, 2.5, \"jay\", 'a+bj')\n",
    "\n",
    "print(\"original_list\",my_list)\n",
    "my_list[2] = \"Tamkhane\"\n",
    "print(\"modified_list\",my_list)\n",
    "\n",
    "a[2] = \"Tamkhane\""
   ]
  },
  {
   "cell_type": "code",
   "execution_count": 21,
   "id": "f58da7fc-4e36-45ca-b8e1-1752c5a80f42",
   "metadata": {},
   "outputs": [
    {
     "name": "stdout",
     "output_type": "stream",
     "text": [
      "Both x and y are positive.\n",
      "At least one of x or y is positive.\n",
      "x is not zero.\n"
     ]
    }
   ],
   "source": [
    "#8)  Write a program to demonstrate the use of logical operators.\n",
    "# Logical AND operator (and)\n",
    "x = 5\n",
    "y = 10\n",
    "\n",
    "if x > 0 and y > 0:\n",
    "    print(\"Both x and y are positive.\")\n",
    "\n",
    "# Logical OR operator (or)\n",
    "x = -5\n",
    "y = 10\n",
    "\n",
    "if x > 0 or y > 0:\n",
    "    print(\"At least one of x or y is positive.\")\n",
    "\n",
    "# Logical NOT operator (not)\n",
    "x = 5\n",
    "\n",
    "if not x == 0:\n",
    "    print(\"x is not zero.\")"
   ]
  },
  {
   "cell_type": "code",
   "execution_count": 30,
   "id": "25835029-a3ec-4812-a8d0-2334df003b05",
   "metadata": {},
   "outputs": [
    {
     "name": "stdin",
     "output_type": "stream",
     "text": [
      "Enter a value:  2.5\n"
     ]
    },
    {
     "name": "stdout",
     "output_type": "stream",
     "text": [
      "Converted to float: 2.5\n"
     ]
    }
   ],
   "source": [
    "# 9)   Write a Python program to convert user input from string to integer, float, and boolean types.\n",
    "def convert_input():\n",
    "    \"\"\"Converts user input to integer, float, or boolean.\"\"\"\n",
    "\n",
    "    user_input = input(\"Enter a value: \")\n",
    "\n",
    "    try:\n",
    "        # Try converting to integer\n",
    "        int_value = int(user_input)\n",
    "        print(\"Converted to integer:\", int_value)\n",
    "    except ValueError:\n",
    "        try:\n",
    "            # Try converting to float\n",
    "            float_value = float(user_input)\n",
    "            print(\"Converted to float:\", float_value)\n",
    "        except ValueError:\n",
    "            # If not integer or float, try converting to boolean\n",
    "            if user_input.lower() in (\"true\", \"1\"):\n",
    "                bool_value = True\n",
    "            elif user_input.lower() in (\"false\", \"0\"):\n",
    "                bool_value = False\n",
    "            else:\n",
    "                bool_value = None\n",
    "            print(\"Converted to boolean:\", bool_value)\n",
    "\n",
    "if __name__ == \"__main__\":\n",
    "    convert_input()"
   ]
  },
  {
   "cell_type": "code",
   "execution_count": 31,
   "id": "81e9f6c8-f961-4dac-b005-79dea23e7bdc",
   "metadata": {},
   "outputs": [
    {
     "name": "stdout",
     "output_type": "stream",
     "text": [
      "Original list: ['1', '2', '3.5', '4.6']\n",
      "List with integers: [1, 2, 3, 4]\n",
      "List with floats: [1.0, 2.0, 3.5, 4.6]\n"
     ]
    }
   ],
   "source": [
    "# 10) Write code to demonstrate type casting with list elements.\n",
    "\n",
    "mixed_list = ['1', '2', '3.5', '4.6'] # mixed types (strings and floats)\n",
    "\n",
    "int_list = [int(item) if '.' not in item else int(float(item)) for item in mixed_list] # Convert string to int\n",
    "\n",
    "float_list = [float(item) for item in mixed_list] # Convert string to float\n",
    "\n",
    "print(f\"Original list: {mixed_list}\")\n",
    "print(f\"List with integers: {int_list}\")\n",
    "print(f\"List with floats: {float_list}\")"
   ]
  },
  {
   "cell_type": "code",
   "execution_count": 2,
   "id": "1a403101-a704-4d22-8d74-c7ae42798c05",
   "metadata": {},
   "outputs": [
    {
     "name": "stdin",
     "output_type": "stream",
     "text": [
      "Enter a number:  0\n"
     ]
    },
    {
     "name": "stdout",
     "output_type": "stream",
     "text": [
      "The number is Zero.\n"
     ]
    }
   ],
   "source": [
    "# 11) Write a program that checks if a number is positive, negative, or zero.\n",
    "def check_number(num):\n",
    "    if num > 0:\n",
    "        return \"Positive\"\n",
    "    elif num < 0:\n",
    "        return \"Negative\"\n",
    "    else:\n",
    "        return \"Zero\"\n",
    "\n",
    "number = float(input(\"Enter a number: \"))  # Input can be a decimal number as well\n",
    "result = check_number(number)\n",
    "print(f\"The number is {result}.\")"
   ]
  },
  {
   "cell_type": "code",
   "execution_count": 4,
   "id": "ae12b9ea-83c6-4938-b759-0e6867eec10a",
   "metadata": {},
   "outputs": [
    {
     "name": "stdout",
     "output_type": "stream",
     "text": [
      "1\n",
      "2\n",
      "3\n",
      "4\n",
      "5\n",
      "6\n",
      "7\n",
      "8\n",
      "9\n",
      "10\n",
      "11\n",
      "12\n",
      "13\n",
      "14\n",
      "15\n",
      "16\n",
      "17\n",
      "18\n",
      "19\n",
      "20\n",
      "21\n",
      "22\n",
      "23\n",
      "24\n",
      "25\n",
      "26\n",
      "27\n",
      "28\n",
      "29\n",
      "30\n",
      "31\n",
      "32\n",
      "33\n",
      "34\n",
      "35\n",
      "36\n",
      "37\n",
      "38\n",
      "39\n",
      "40\n",
      "41\n",
      "42\n",
      "43\n",
      "44\n",
      "45\n",
      "46\n",
      "47\n",
      "48\n",
      "49\n",
      "50\n",
      "51\n",
      "52\n",
      "53\n",
      "54\n",
      "55\n",
      "56\n",
      "57\n",
      "58\n",
      "59\n",
      "60\n",
      "61\n",
      "62\n",
      "63\n",
      "64\n",
      "65\n",
      "66\n",
      "67\n",
      "68\n",
      "69\n",
      "70\n",
      "71\n",
      "72\n",
      "73\n",
      "74\n",
      "75\n",
      "76\n",
      "77\n",
      "78\n",
      "79\n",
      "80\n",
      "81\n",
      "82\n",
      "83\n",
      "84\n",
      "85\n",
      "86\n",
      "87\n",
      "88\n",
      "89\n",
      "90\n",
      "91\n",
      "92\n",
      "93\n",
      "94\n",
      "95\n",
      "96\n",
      "97\n",
      "98\n",
      "99\n",
      "100\n"
     ]
    }
   ],
   "source": [
    "# 12) Write a for loop to print numbers from 1 to 100.\n",
    "for number in range(1, 101):\n",
    "    print(number)"
   ]
  },
  {
   "cell_type": "code",
   "execution_count": 8,
   "id": "f78c5cc4-82c2-48dc-8e48-b62c875f5243",
   "metadata": {},
   "outputs": [
    {
     "name": "stdout",
     "output_type": "stream",
     "text": [
      "The sum of all even numbers between 1 and 500 is: 62750\n"
     ]
    }
   ],
   "source": [
    "# 13)  Write a Python program to find the sum of all even numbers between 1 and 500.\n",
    "\n",
    "total_sum = 0\n",
    "\n",
    "# Iterate through numbers from 1 to 500\n",
    "for number in range(2, 501, 2):  # Start at 2 and step by 2 (even numbers only)\n",
    "    total_sum += number\n",
    "\n",
    "# Print the result\n",
    "print(f\"The sum of all even numbers between 1 and 500 is: {total_sum}\")\n"
   ]
  },
  {
   "cell_type": "code",
   "execution_count": 14,
   "id": "1a99af71-4dfe-4b17-99b6-7f652a946064",
   "metadata": {},
   "outputs": [
    {
     "name": "stdin",
     "output_type": "stream",
     "text": [
      "Enter a string:  Reverse function\n"
     ]
    },
    {
     "name": "stdout",
     "output_type": "stream",
     "text": [
      "Reversed string: noitcnuf esreveR\n"
     ]
    }
   ],
   "source": [
    "# 14) Write a program to reverse a string using a while loop.\n",
    "def reverse_string(s):\n",
    "    reversed_str = \"\"\n",
    "    index = len(s) - 1\n",
    "    \n",
    "    while index >= 0:\n",
    "        reversed_str += s[index]\n",
    "        index -= 1\n",
    "    \n",
    "    return reversed_str\n",
    "\n",
    "input_string = input(\"Enter a string: \")\n",
    "print(\"Reversed string:\", reverse_string(input_string))\n"
   ]
  },
  {
   "cell_type": "code",
   "execution_count": 18,
   "id": "0a641118-dae9-4a65-996c-4dcedff909d2",
   "metadata": {},
   "outputs": [
    {
     "name": "stdin",
     "output_type": "stream",
     "text": [
      "Enter a number to calculate its factorial:  8\n"
     ]
    },
    {
     "name": "stdout",
     "output_type": "stream",
     "text": [
      "The factorial of 8 is: 40320\n"
     ]
    }
   ],
   "source": [
    "# 15) Write a Python program to calculate the factorial of a number provided by the user using a while loop.\n",
    "def factorial(n):\n",
    "    result = 1\n",
    "    while n > 0:\n",
    "        result *= n  # Multiply result by current value of n\n",
    "        n -= 1       # Decrease n by 1 in each iteration\n",
    "    return result\n",
    "\n",
    "# Get input from the user\n",
    "num = int(input(\"Enter a number to calculate its factorial: \"))\n",
    "print(f\"The factorial of {num} is: {factorial(num)}\")\n"
   ]
  }
 ],
 "metadata": {
  "kernelspec": {
   "display_name": "Python 3 (ipykernel)",
   "language": "python",
   "name": "python3"
  },
  "language_info": {
   "codemirror_mode": {
    "name": "ipython",
    "version": 3
   },
   "file_extension": ".py",
   "mimetype": "text/x-python",
   "name": "python",
   "nbconvert_exporter": "python",
   "pygments_lexer": "ipython3",
   "version": "3.12.7"
  }
 },
 "nbformat": 4,
 "nbformat_minor": 5
}
